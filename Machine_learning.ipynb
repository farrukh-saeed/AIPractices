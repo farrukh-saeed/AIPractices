{
  "nbformat": 4,
  "nbformat_minor": 0,
  "metadata": {
    "colab": {
      "provenance": [],
      "authorship_tag": "ABX9TyMZfDX9NUqmImIhIlzvgezw",
      "include_colab_link": true
    },
    "kernelspec": {
      "name": "python3",
      "display_name": "Python 3"
    },
    "language_info": {
      "name": "python"
    }
  },
  "cells": [
    {
      "cell_type": "markdown",
      "metadata": {
        "id": "view-in-github",
        "colab_type": "text"
      },
      "source": [
        "<a href=\"https://colab.research.google.com/github/farrukh-saeed/AIPractices/blob/main/Machine_learning.ipynb\" target=\"_parent\"><img src=\"https://colab.research.google.com/assets/colab-badge.svg\" alt=\"Open In Colab\"/></a>"
      ]
    },
    {
      "cell_type": "markdown",
      "source": [
        "Installation and import scikit learn library\n",
        "\n",
        "pip install scikit-learn\n",
        "\n",
        "or\n",
        "\n",
        "conda install scikit-learn\n",
        "\n",
        "from sklearn.family import model\n",
        "\n",
        "Iris Dataset available publically\n",
        "https://archive.ics.uci.edu/dataset/53/iris\n"
      ],
      "metadata": {
        "id": "A_agcTqgawMU"
      }
    },
    {
      "cell_type": "code",
      "execution_count": 38,
      "metadata": {
        "colab": {
          "base_uri": "https://localhost:8080/"
        },
        "id": "-zIrs0-s0bcB",
        "outputId": "5fd46c68-9940-40ac-b406-b837930cb43d"
      },
      "outputs": [
        {
          "output_type": "stream",
          "name": "stdout",
          "text": [
            "python: 3.10.12 (main, Nov 20 2023, 15:14:05) [GCC 11.4.0]\n",
            "scipy: 1.11.4\n",
            "numpy: 1.25.2\n",
            "matplotlib: 3.7.1\n",
            "pandas: 1.5.3\n",
            "sklearn. 1.2.2\n"
          ]
        }
      ],
      "source": [
        "\n",
        "#Check the versions of the python libraries in Jupyter notebook for machine learning\n",
        "#python version\n",
        "import sys\n",
        "print('python: {}'.format(sys.version))\n",
        "#scipy\n",
        "import scipy\n",
        "print('scipy: {}'.format(scipy.__version__))\n",
        "#numpy\n",
        "import numpy\n",
        "print('numpy: {}'.format(numpy.__version__))\n",
        "#matplotlib\n",
        "import matplotlib\n",
        "print('matplotlib: {}'.format(matplotlib.__version__))\n",
        "#Pandas\n",
        "import pandas\n",
        "print('pandas: {}'.format(pandas.__version__))\n",
        "#scikit learn\n",
        "import sklearn\n",
        "print('sklearn. {}'.format(sklearn.__version__))\n"
      ]
    },
    {
      "cell_type": "code",
      "source": [
        "!pip install scipy==1.9\n"
      ],
      "metadata": {
        "id": "a0KVrmf18L4N"
      },
      "execution_count": null,
      "outputs": []
    },
    {
      "cell_type": "code",
      "source": [
        "!pip install auto-sklearn\n"
      ],
      "metadata": {
        "id": "SqwTJLg68Cwe"
      },
      "execution_count": null,
      "outputs": []
    },
    {
      "cell_type": "markdown",
      "source": [
        "Importing libraries for machine learning"
      ],
      "metadata": {
        "id": "KjP70NQfbfCm"
      }
    },
    {
      "cell_type": "code",
      "source": [
        "import pandas\n",
        "from pandas.plotting import scatter_matrix\n",
        "import matplotlib.pyplot as plt\n",
        "from sklearn import model_selection\n",
        "from sklearn.metrics import classification_report\n",
        "from sklearn.metrics import confusion_matrix\n",
        "from sklearn.metrics import accuracy_score\n",
        "from sklearn.linear_model import LogisticRegression\n",
        "from sklearn.tree import DecisionTreeClassifier\n",
        "from sklearn.neighbors import KNeighborsClassifier\n",
        "from sklearn.discriminant_analysis import LinearDiscriminantAnalysis\n",
        "from sklearn.naive_bayes import GaussianNB\n",
        "from sklearn.svm import SVC\n"
      ],
      "metadata": {
        "id": "Tz7Mx0xg9LeR"
      },
      "execution_count": 27,
      "outputs": []
    },
    {
      "cell_type": "code",
      "source": [
        "pip install ucimlrepo"
      ],
      "metadata": {
        "colab": {
          "base_uri": "https://localhost:8080/"
        },
        "id": "hdeLcGHcAGN5",
        "outputId": "e1ffb419-c14b-4f80-829d-50abcf89c7a9"
      },
      "execution_count": 39,
      "outputs": [
        {
          "output_type": "stream",
          "name": "stdout",
          "text": [
            "Requirement already satisfied: ucimlrepo in /usr/local/lib/python3.10/dist-packages (0.0.3)\n"
          ]
        }
      ]
    },
    {
      "cell_type": "markdown",
      "source": [
        "Using panda to load the data\n",
        "Data is coming from UC machine leanring account\n"
      ],
      "metadata": {
        "id": "kNTaXT0q9eXb"
      }
    },
    {
      "cell_type": "code",
      "source": [
        "from ucimlrepo import fetch_ucirepo\n",
        "\n",
        "# fetch dataset\n",
        "iris = fetch_ucirepo(id=53)\n",
        "\n",
        "# data (as pandas dataframes)\n",
        "X = iris.data.features\n",
        "y = iris.data.targets\n",
        "\n",
        "# metadata\n",
        "print(iris.metadata)\n",
        "\n",
        "# variable information\n",
        "print(iris.variables)\n"
      ],
      "metadata": {
        "id": "rdW_oLgvALNx"
      },
      "execution_count": null,
      "outputs": []
    },
    {
      "cell_type": "code",
      "source": [
        "from ucimlrepo import fetch_ucirepo\n",
        "\n",
        "# fetch dataset\n",
        "iris = fetch_ucirepo(id=53)\n",
        "\n",
        "# data (as pandas dataframes)\n",
        "X = iris.data.features\n",
        "y = iris.data.targets\n",
        "\n",
        "# metadata\n",
        "print(iris.metadata)\n",
        "\n",
        "# variable information\n",
        "print(iris.variables)\n"
      ],
      "metadata": {
        "id": "9TMRMFooA60Z"
      },
      "execution_count": null,
      "outputs": []
    },
    {
      "cell_type": "code",
      "source": [
        "from ucimlrepo import fetch_ucirepo\n",
        "\n",
        "# fetch dataset\n",
        "iris = fetch_ucirepo(id=53)\n",
        "\n",
        "# data (as pandas dataframes)\n",
        "X = iris.data.features\n",
        "y = iris.data.targets\n",
        "\n",
        "# metadata\n",
        "print(iris.metadata)\n",
        "\n",
        "# variable information\n",
        "print(iris.variables)\n"
      ],
      "metadata": {
        "id": "QJ-dt01UBAu8"
      },
      "execution_count": null,
      "outputs": []
    },
    {
      "cell_type": "markdown",
      "source": [],
      "metadata": {
        "id": "vl2X0bz8aunK"
      }
    },
    {
      "cell_type": "markdown",
      "source": [
        "https://github.com/uci-ml-repo/ucimlrepo\n"
      ],
      "metadata": {
        "id": "NymZDQTeC7Dn"
      }
    },
    {
      "cell_type": "code",
      "source": [
        "url = \"https://archive.ics.uci.edu/ml/machine-learning-databases/iris/iris.data\"\n",
        "names = ['sepal-length', 'sepal-width', 'petal-length' 'petal-width', 'class']\n",
        "dataset = pandas.read_csv(url, names=names)\n"
      ],
      "metadata": {
        "id": "VW6AfzMcBEsi"
      },
      "execution_count": 35,
      "outputs": []
    },
    {
      "cell_type": "code",
      "source": [
        "print(dataset.shape)"
      ],
      "metadata": {
        "colab": {
          "base_uri": "https://localhost:8080/"
        },
        "id": "YBYTK3apC9W-",
        "outputId": "997cb25a-d650-4b78-b034-0f0803dddd5a"
      },
      "execution_count": 37,
      "outputs": [
        {
          "output_type": "stream",
          "name": "stdout",
          "text": [
            "(150, 4)\n"
          ]
        }
      ]
    }
  ]
}